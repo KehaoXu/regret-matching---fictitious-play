{
 "cells": [
  {
   "cell_type": "code",
   "execution_count": null,
   "metadata": {},
   "outputs": [],
   "source": [
    "def fictitiousplay(M1, M2, a1, a2, N):\n",
    "    n_actions_p1 = M1.shape[0]\n",
    "    n_actions_p2 = M1.shape[1]\n",
    "    A1 = [a1]\n",
    "    A2 = [a2]\n",
    "    \n",
    "    # 初始化对手的动作频率计数（用于构造经验分布）\n",
    "    count1 = np.zeros(n_actions_p1)  # 对于玩家2来说，关于玩家1的历史动作\n",
    "    count2 = np.zeros(n_actions_p2)  # 对于玩家1来说，关于玩家2的历史动作\n",
    "    \n",
    "    count1[a1] += 1\n",
    "    count2[a2] += 1\n",
    "    \n",
    "    # 记录累计收益（初始时刻的收益）\n",
    "    cumulative_util1 = M1[a1, a2]\n",
    "    cumulative_util2 = M2[a1, a2]\n",
    "    avg_util1 = [cumulative_util1]\n",
    "    avg_util2 = [cumulative_util2]\n",
    "    \n",
    "    for t in range(1, N):\n",
    "        # 玩家1构造玩家2的经验分布，玩家2构造玩家1的经验分布\n",
    "        prob2 = count2 / np.sum(count2)\n",
    "        prob1 = count1 / np.sum(count1)\n",
    "        \n",
    "        # 玩家1计算每个动作的期望收益并选择最佳反应\n",
    "        exp_payoffs1 = M1.dot(prob2)\n",
    "        next_a1 = best_response(exp_payoffs1)\n",
    "        # 玩家2计算每个动作的期望收益（注意：M2的列对应玩家2的动作）\n",
    "        exp_payoffs2 = M2.T.dot(prob1)\n",
    "        next_a2 = best_response(exp_payoffs2)\n",
    "        \n",
    "        A1.append(next_a1)\n",
    "        A2.append(next_a2)\n",
    "        \n",
    "        # 更新对手动作频率\n",
    "        count1[next_a1] += 1\n",
    "        count2[next_a2] += 1\n",
    "        \n",
    "        # 计算当前收益，并更新累计收益\n",
    "        payoff1 = M1[next_a1, next_a2]\n",
    "        payoff2 = M2[next_a1, next_a2]\n",
    "        cumulative_util1 += payoff1\n",
    "        cumulative_util2 += payoff2\n",
    "        \n",
    "        avg_util1.append(cumulative_util1 / (t + 1))\n",
    "        avg_util2.append(cumulative_util2 / (t + 1))\n",
    "    \n",
    "    return np.array(A1), np.array(A2), np.array(avg_util1), np.array(avg_util2)"
   ]
  }
 ],
 "metadata": {
  "language_info": {
   "name": "python"
  }
 },
 "nbformat": 4,
 "nbformat_minor": 2
}
